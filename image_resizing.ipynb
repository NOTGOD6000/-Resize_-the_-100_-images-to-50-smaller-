{
  "nbformat": 4,
  "nbformat_minor": 0,
  "metadata": {
    "colab": {
      "provenance": [],
      "include_colab_link": true
    },
    "kernelspec": {
      "name": "python3",
      "display_name": "Python 3"
    },
    "language_info": {
      "name": "python"
    }
  },
  "cells": [
    {
      "cell_type": "markdown",
      "metadata": {
        "id": "view-in-github",
        "colab_type": "text"
      },
      "source": [
        "<a href=\"https://colab.research.google.com/github/NOTGOD6000/-Resize_-the_-100_-images-to-50-smaller-/blob/main/image_resizing.ipynb\" target=\"_parent\"><img src=\"https://colab.research.google.com/assets/colab-badge.svg\" alt=\"Open In Colab\"/></a>"
      ]
    },
    {
      "cell_type": "code",
      "execution_count": 1,
      "metadata": {
        "colab": {
          "base_uri": "https://localhost:8080/"
        },
        "id": "pMQjjOD05xnr",
        "outputId": "d637280c-12aa-4969-86fe-262df16faa04"
      },
      "outputs": [
        {
          "output_type": "stream",
          "name": "stdout",
          "text": [
            "Requirement already satisfied: opencv-python in /usr/local/lib/python3.11/dist-packages (4.11.0.86)\n",
            "Requirement already satisfied: numpy>=1.21.2 in /usr/local/lib/python3.11/dist-packages (from opencv-python) (2.0.2)\n"
          ]
        }
      ],
      "source": [
        "! pip install opencv-python"
      ]
    },
    {
      "cell_type": "code",
      "source": [
        "import kagglehub\n",
        "import os\n",
        "# Download latest version\n",
        "path = kagglehub.dataset_download(\"prasunroy/natural-images\")\n",
        "\n",
        "print(\"Path to dataset files:\", path)"
      ],
      "metadata": {
        "id": "l6MvHdSq9GVS",
        "colab": {
          "base_uri": "https://localhost:8080/"
        },
        "outputId": "0bba04ee-038e-49df-ec6c-d4756a317045"
      },
      "execution_count": 2,
      "outputs": [
        {
          "output_type": "stream",
          "name": "stdout",
          "text": [
            "Downloading from https://www.kaggle.com/api/v1/datasets/download/prasunroy/natural-images?dataset_version_number=1...\n"
          ]
        },
        {
          "output_type": "stream",
          "name": "stderr",
          "text": [
            "100%|██████████| 342M/342M [00:01<00:00, 183MB/s]"
          ]
        },
        {
          "output_type": "stream",
          "name": "stdout",
          "text": [
            "Extracting files...\n"
          ]
        },
        {
          "output_type": "stream",
          "name": "stderr",
          "text": [
            "\n"
          ]
        },
        {
          "output_type": "stream",
          "name": "stdout",
          "text": [
            "Path to dataset files: /root/.cache/kagglehub/datasets/prasunroy/natural-images/versions/1\n"
          ]
        }
      ]
    },
    {
      "cell_type": "code",
      "source": [
        "import shutil\n",
        "output='images'\n",
        "os.makedirs(output,exist_ok=True)\n",
        "img_exts=('.jpg','.png','jpeg')\n",
        "img_cnt=0\n",
        "for root,dirs,files in os.walk(path):\n",
        "  for file in files:\n",
        "    if file.lower().endswith(img_exts):\n",
        "      src_path=os.path.join(root,file)\n",
        "      dst_path=os.path.join(output,f\"{img_cnt:03d}_{file}\")\n",
        "      shutil.copy(src_path,dst_path)\n",
        "      img_cnt+=1\n",
        "      if img_cnt==100:\n",
        "        break\n",
        "  if img_cnt==100:\n",
        "        break\n",
        "\n"
      ],
      "metadata": {
        "id": "AH-rVW9oHje2"
      },
      "execution_count": 3,
      "outputs": []
    },
    {
      "cell_type": "code",
      "source": [
        "import os\n",
        "import cv2\n",
        "\n",
        "input_dir = '/content/images'\n",
        "resize = '/content/resize_images'\n",
        "os.makedirs(resize, exist_ok=True)\n",
        "\n",
        "for filename in os.listdir(input_dir):\n",
        "    file_path = os.path.join(input_dir, filename)\n",
        "\n",
        "    if filename.lower().endswith(('.png', '.jpg', '.jpeg')):\n",
        "        img = cv2.imread(file_path)\n",
        "        half = cv2.resize(img, (0, 0), fx = 0.1, fy = 0.1) #50% smaller\n",
        "\n",
        "        save_path = os.path.join(resize, filename)\n",
        "        cv2.imwrite(save_path, half)\n",
        "\n",
        "print(f\"Saved resized images to {resize}\")\n"
      ],
      "metadata": {
        "colab": {
          "base_uri": "https://localhost:8080/"
        },
        "id": "bj0Olu4xJoLz",
        "outputId": "e6bb9606-cce1-40ad-85dc-683290fa4620"
      },
      "execution_count": 4,
      "outputs": [
        {
          "output_type": "stream",
          "name": "stdout",
          "text": [
            "Saved resized images to /content/resize_images\n"
          ]
        }
      ]
    }
  ]
}